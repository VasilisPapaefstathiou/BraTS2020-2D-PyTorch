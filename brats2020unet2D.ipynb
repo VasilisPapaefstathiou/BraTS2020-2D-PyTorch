{
  "nbformat": 4,
  "nbformat_minor": 0,
  "metadata": {
    "accelerator": "GPU",
    "colab": {
      "name": "brats2020unet2D.ipynb",
      "provenance": [],
      "collapsed_sections": [
        "JpHVF87SpIUv"
      ],
      "toc_visible": true
    },
    "kernelspec": {
      "display_name": "Python 3",
      "name": "python3"
    },
    "widgets": {
      "application/vnd.jupyter.widget-state+json": {
        "3565ce13e21b4b74b208955c66b3fab4": {
          "model_module": "@jupyter-widgets/controls",
          "model_name": "HBoxModel",
          "state": {
            "_view_name": "HBoxView",
            "_dom_classes": [],
            "_model_name": "HBoxModel",
            "_view_module": "@jupyter-widgets/controls",
            "_model_module_version": "1.5.0",
            "_view_count": null,
            "_view_module_version": "1.5.0",
            "box_style": "",
            "layout": "IPY_MODEL_e1b23c785e79406392ba5b82baa9916f",
            "_model_module": "@jupyter-widgets/controls",
            "children": [
              "IPY_MODEL_1ce16a9ba3c4406f88c28891bb26c34a",
              "IPY_MODEL_3b83812f78254c1db8bf185e762e2526"
            ]
          }
        },
        "e1b23c785e79406392ba5b82baa9916f": {
          "model_module": "@jupyter-widgets/base",
          "model_name": "LayoutModel",
          "state": {
            "_view_name": "LayoutView",
            "grid_template_rows": null,
            "right": null,
            "justify_content": null,
            "_view_module": "@jupyter-widgets/base",
            "overflow": null,
            "_model_module_version": "1.2.0",
            "_view_count": null,
            "flex_flow": null,
            "width": null,
            "min_width": null,
            "border": null,
            "align_items": null,
            "bottom": null,
            "_model_module": "@jupyter-widgets/base",
            "top": null,
            "grid_column": null,
            "overflow_y": null,
            "overflow_x": null,
            "grid_auto_flow": null,
            "grid_area": null,
            "grid_template_columns": null,
            "flex": null,
            "_model_name": "LayoutModel",
            "justify_items": null,
            "grid_row": null,
            "max_height": null,
            "align_content": null,
            "visibility": null,
            "align_self": null,
            "height": null,
            "min_height": null,
            "padding": null,
            "grid_auto_rows": null,
            "grid_gap": null,
            "max_width": null,
            "order": null,
            "_view_module_version": "1.2.0",
            "grid_template_areas": null,
            "object_position": null,
            "object_fit": null,
            "grid_auto_columns": null,
            "margin": null,
            "display": null,
            "left": null
          }
        },
        "1ce16a9ba3c4406f88c28891bb26c34a": {
          "model_module": "@jupyter-widgets/controls",
          "model_name": "FloatProgressModel",
          "state": {
            "_view_name": "ProgressView",
            "style": "IPY_MODEL_f67095318a9a4fc69598d06c6af5dbec",
            "_dom_classes": [],
            "description": "100%",
            "_model_name": "FloatProgressModel",
            "bar_style": "success",
            "max": 102502400,
            "_view_module": "@jupyter-widgets/controls",
            "_model_module_version": "1.5.0",
            "value": 102502400,
            "_view_count": null,
            "_view_module_version": "1.5.0",
            "orientation": "horizontal",
            "min": 0,
            "description_tooltip": null,
            "_model_module": "@jupyter-widgets/controls",
            "layout": "IPY_MODEL_4439160d933744118331000d49d155c8"
          }
        },
        "3b83812f78254c1db8bf185e762e2526": {
          "model_module": "@jupyter-widgets/controls",
          "model_name": "HTMLModel",
          "state": {
            "_view_name": "HTMLView",
            "style": "IPY_MODEL_0bc107e4ce3f491ab869d0632a11a708",
            "_dom_classes": [],
            "description": "",
            "_model_name": "HTMLModel",
            "placeholder": "​",
            "_view_module": "@jupyter-widgets/controls",
            "_model_module_version": "1.5.0",
            "value": " 97.8M/97.8M [00:00&lt;00:00, 221MB/s]",
            "_view_count": null,
            "_view_module_version": "1.5.0",
            "description_tooltip": null,
            "_model_module": "@jupyter-widgets/controls",
            "layout": "IPY_MODEL_b782b11299354591b069a3f2d340848c"
          }
        },
        "f67095318a9a4fc69598d06c6af5dbec": {
          "model_module": "@jupyter-widgets/controls",
          "model_name": "ProgressStyleModel",
          "state": {
            "_view_name": "StyleView",
            "_model_name": "ProgressStyleModel",
            "description_width": "initial",
            "_view_module": "@jupyter-widgets/base",
            "_model_module_version": "1.5.0",
            "_view_count": null,
            "_view_module_version": "1.2.0",
            "bar_color": null,
            "_model_module": "@jupyter-widgets/controls"
          }
        },
        "4439160d933744118331000d49d155c8": {
          "model_module": "@jupyter-widgets/base",
          "model_name": "LayoutModel",
          "state": {
            "_view_name": "LayoutView",
            "grid_template_rows": null,
            "right": null,
            "justify_content": null,
            "_view_module": "@jupyter-widgets/base",
            "overflow": null,
            "_model_module_version": "1.2.0",
            "_view_count": null,
            "flex_flow": null,
            "width": null,
            "min_width": null,
            "border": null,
            "align_items": null,
            "bottom": null,
            "_model_module": "@jupyter-widgets/base",
            "top": null,
            "grid_column": null,
            "overflow_y": null,
            "overflow_x": null,
            "grid_auto_flow": null,
            "grid_area": null,
            "grid_template_columns": null,
            "flex": null,
            "_model_name": "LayoutModel",
            "justify_items": null,
            "grid_row": null,
            "max_height": null,
            "align_content": null,
            "visibility": null,
            "align_self": null,
            "height": null,
            "min_height": null,
            "padding": null,
            "grid_auto_rows": null,
            "grid_gap": null,
            "max_width": null,
            "order": null,
            "_view_module_version": "1.2.0",
            "grid_template_areas": null,
            "object_position": null,
            "object_fit": null,
            "grid_auto_columns": null,
            "margin": null,
            "display": null,
            "left": null
          }
        },
        "0bc107e4ce3f491ab869d0632a11a708": {
          "model_module": "@jupyter-widgets/controls",
          "model_name": "DescriptionStyleModel",
          "state": {
            "_view_name": "StyleView",
            "_model_name": "DescriptionStyleModel",
            "description_width": "",
            "_view_module": "@jupyter-widgets/base",
            "_model_module_version": "1.5.0",
            "_view_count": null,
            "_view_module_version": "1.2.0",
            "_model_module": "@jupyter-widgets/controls"
          }
        },
        "b782b11299354591b069a3f2d340848c": {
          "model_module": "@jupyter-widgets/base",
          "model_name": "LayoutModel",
          "state": {
            "_view_name": "LayoutView",
            "grid_template_rows": null,
            "right": null,
            "justify_content": null,
            "_view_module": "@jupyter-widgets/base",
            "overflow": null,
            "_model_module_version": "1.2.0",
            "_view_count": null,
            "flex_flow": null,
            "width": null,
            "min_width": null,
            "border": null,
            "align_items": null,
            "bottom": null,
            "_model_module": "@jupyter-widgets/base",
            "top": null,
            "grid_column": null,
            "overflow_y": null,
            "overflow_x": null,
            "grid_auto_flow": null,
            "grid_area": null,
            "grid_template_columns": null,
            "flex": null,
            "_model_name": "LayoutModel",
            "justify_items": null,
            "grid_row": null,
            "max_height": null,
            "align_content": null,
            "visibility": null,
            "align_self": null,
            "height": null,
            "min_height": null,
            "padding": null,
            "grid_auto_rows": null,
            "grid_gap": null,
            "max_width": null,
            "order": null,
            "_view_module_version": "1.2.0",
            "grid_template_areas": null,
            "object_position": null,
            "object_fit": null,
            "grid_auto_columns": null,
            "margin": null,
            "display": null,
            "left": null
          }
        }
      }
    }
  },
  "cells": [
    {
      "cell_type": "code",
      "metadata": {
        "id": "Ea-HRp2U1pvk",
        "colab": {
          "base_uri": "https://localhost:8080/"
        },
        "outputId": "f9825720-d751-4e1e-ffb5-d83605796327"
      },
      "source": [
        "! pip -q install git+https://github.com/qubvel/segmentation_models.pytorch"
      ],
      "execution_count": null,
      "outputs": [
        {
          "output_type": "stream",
          "text": [
            "\u001b[K     |████████████████████████████████| 61kB 5.8MB/s \n",
            "\u001b[K     |████████████████████████████████| 225kB 13.4MB/s \n",
            "\u001b[?25h  Building wheel for segmentation-models-pytorch (setup.py) ... \u001b[?25l\u001b[?25hdone\n",
            "  Building wheel for pretrainedmodels (setup.py) ... \u001b[?25l\u001b[?25hdone\n",
            "  Building wheel for efficientnet-pytorch (setup.py) ... \u001b[?25l\u001b[?25hdone\n"
          ],
          "name": "stdout"
        }
      ]
    },
    {
      "cell_type": "code",
      "metadata": {
        "id": "vrBtuVpy1tOL"
      },
      "source": [
        "import segmentation_models_pytorch as smp\n",
        "import os\n",
        "import matplotlib.pyplot as plt\n",
        "from PIL import Image\n",
        "import numpy as np\n",
        "from google.colab import drive\n",
        "import torch\n",
        "from torch.utils.data import Dataset, DataLoader\n",
        "from torchvision import transforms, utils\n",
        "import torch.nn as nn\n",
        "import torch.optim as optim\n",
        "from torch.optim import lr_scheduler\n",
        "import time\n",
        "import albumentations as A\n",
        "import torch.nn.functional as F\n",
        "import pandas as pd\n",
        "import nibabel as nib\n",
        "from tqdm import tqdm"
      ],
      "execution_count": null,
      "outputs": []
    },
    {
      "cell_type": "code",
      "metadata": {
        "id": "1JwJbHDH8wP5",
        "colab": {
          "base_uri": "https://localhost:8080/"
        },
        "outputId": "672695dc-9a04-45f9-d0f7-9d6362c73c86"
      },
      "source": [
        "drive.mount('/content/drive')"
      ],
      "execution_count": null,
      "outputs": [
        {
          "output_type": "stream",
          "text": [
            "Mounted at /content/drive\n"
          ],
          "name": "stdout"
        }
      ]
    },
    {
      "cell_type": "markdown",
      "metadata": {
        "id": "ioisa0vvGYBe"
      },
      "source": [
        "# Extract dataset"
      ]
    },
    {
      "cell_type": "code",
      "metadata": {
        "id": "16Ze3pBKE4aK"
      },
      "source": [
        "! unzip -q '/content/drive/My Drive/Colab Notebooks/MICCAI_BraTS2020_TrainingData.zip'"
      ],
      "execution_count": null,
      "outputs": []
    },
    {
      "cell_type": "code",
      "metadata": {
        "id": "gDYLuLoyIa4K",
        "colab": {
          "base_uri": "https://localhost:8080/"
        },
        "outputId": "c08915d4-817c-468c-d2fe-582f82c17c0d"
      },
      "source": [
        "! ls MICCAI_BraTS2020_TrainingData/ | head -5"
      ],
      "execution_count": null,
      "outputs": [
        {
          "output_type": "stream",
          "text": [
            "BraTS20_Training_001\n",
            "BraTS20_Training_002\n",
            "BraTS20_Training_003\n",
            "BraTS20_Training_004\n",
            "BraTS20_Training_005\n"
          ],
          "name": "stdout"
        }
      ]
    },
    {
      "cell_type": "code",
      "metadata": {
        "id": "glHxrAtgHz2I",
        "colab": {
          "base_uri": "https://localhost:8080/"
        },
        "outputId": "08f3796d-46f6-469b-d125-509108b374b6"
      },
      "source": [
        "! ls MICCAI_BraTS2020_TrainingData/BraTS20_Training_001/"
      ],
      "execution_count": null,
      "outputs": [
        {
          "output_type": "stream",
          "text": [
            "BraTS20_Training_001_flair.nii.gz  BraTS20_Training_001_t1.nii.gz\n",
            "BraTS20_Training_001_seg.nii.gz    BraTS20_Training_001_t2.nii.gz\n",
            "BraTS20_Training_001_t1ce.nii.gz\n"
          ],
          "name": "stdout"
        }
      ]
    },
    {
      "cell_type": "code",
      "metadata": {
        "id": "RVG0CTObGHPi",
        "colab": {
          "base_uri": "https://localhost:8080/",
          "height": 204
        },
        "outputId": "25522e4b-5131-4b5b-814e-87756facd778"
      },
      "source": [
        "root = './MICCAI_BraTS2020_TrainingData'\n",
        "data = pd.read_csv(os.path.join(root, 'name_mapping.csv'))\n",
        "data.head(5)"
      ],
      "execution_count": null,
      "outputs": [
        {
          "output_type": "execute_result",
          "data": {
            "text/html": [
              "<div>\n",
              "<style scoped>\n",
              "    .dataframe tbody tr th:only-of-type {\n",
              "        vertical-align: middle;\n",
              "    }\n",
              "\n",
              "    .dataframe tbody tr th {\n",
              "        vertical-align: top;\n",
              "    }\n",
              "\n",
              "    .dataframe thead th {\n",
              "        text-align: right;\n",
              "    }\n",
              "</style>\n",
              "<table border=\"1\" class=\"dataframe\">\n",
              "  <thead>\n",
              "    <tr style=\"text-align: right;\">\n",
              "      <th></th>\n",
              "      <th>Grade</th>\n",
              "      <th>BraTS_2017_subject_ID</th>\n",
              "      <th>BraTS_2018_subject_ID</th>\n",
              "      <th>TCGA_TCIA_subject_ID</th>\n",
              "      <th>BraTS_2019_subject_ID</th>\n",
              "      <th>BraTS_2020_subject_ID</th>\n",
              "    </tr>\n",
              "  </thead>\n",
              "  <tbody>\n",
              "    <tr>\n",
              "      <th>0</th>\n",
              "      <td>HGG</td>\n",
              "      <td>Brats17_CBICA_AAB_1</td>\n",
              "      <td>Brats18_CBICA_AAB_1</td>\n",
              "      <td>NaN</td>\n",
              "      <td>BraTS19_CBICA_AAB_1</td>\n",
              "      <td>BraTS20_Training_001</td>\n",
              "    </tr>\n",
              "    <tr>\n",
              "      <th>1</th>\n",
              "      <td>HGG</td>\n",
              "      <td>Brats17_CBICA_AAG_1</td>\n",
              "      <td>Brats18_CBICA_AAG_1</td>\n",
              "      <td>NaN</td>\n",
              "      <td>BraTS19_CBICA_AAG_1</td>\n",
              "      <td>BraTS20_Training_002</td>\n",
              "    </tr>\n",
              "    <tr>\n",
              "      <th>2</th>\n",
              "      <td>HGG</td>\n",
              "      <td>Brats17_CBICA_AAL_1</td>\n",
              "      <td>Brats18_CBICA_AAL_1</td>\n",
              "      <td>NaN</td>\n",
              "      <td>BraTS19_CBICA_AAL_1</td>\n",
              "      <td>BraTS20_Training_003</td>\n",
              "    </tr>\n",
              "    <tr>\n",
              "      <th>3</th>\n",
              "      <td>HGG</td>\n",
              "      <td>Brats17_CBICA_AAP_1</td>\n",
              "      <td>Brats18_CBICA_AAP_1</td>\n",
              "      <td>NaN</td>\n",
              "      <td>BraTS19_CBICA_AAP_1</td>\n",
              "      <td>BraTS20_Training_004</td>\n",
              "    </tr>\n",
              "    <tr>\n",
              "      <th>4</th>\n",
              "      <td>HGG</td>\n",
              "      <td>Brats17_CBICA_ABB_1</td>\n",
              "      <td>Brats18_CBICA_ABB_1</td>\n",
              "      <td>NaN</td>\n",
              "      <td>BraTS19_CBICA_ABB_1</td>\n",
              "      <td>BraTS20_Training_005</td>\n",
              "    </tr>\n",
              "  </tbody>\n",
              "</table>\n",
              "</div>"
            ],
            "text/plain": [
              "  Grade BraTS_2017_subject_ID  ... BraTS_2019_subject_ID BraTS_2020_subject_ID\n",
              "0   HGG   Brats17_CBICA_AAB_1  ...   BraTS19_CBICA_AAB_1  BraTS20_Training_001\n",
              "1   HGG   Brats17_CBICA_AAG_1  ...   BraTS19_CBICA_AAG_1  BraTS20_Training_002\n",
              "2   HGG   Brats17_CBICA_AAL_1  ...   BraTS19_CBICA_AAL_1  BraTS20_Training_003\n",
              "3   HGG   Brats17_CBICA_AAP_1  ...   BraTS19_CBICA_AAP_1  BraTS20_Training_004\n",
              "4   HGG   Brats17_CBICA_ABB_1  ...   BraTS19_CBICA_ABB_1  BraTS20_Training_005\n",
              "\n",
              "[5 rows x 6 columns]"
            ]
          },
          "metadata": {
            "tags": []
          },
          "execution_count": 7
        }
      ]
    },
    {
      "cell_type": "code",
      "metadata": {
        "id": "I49Sl3GpG_p1",
        "colab": {
          "base_uri": "https://localhost:8080/"
        },
        "outputId": "84bd9d35-c508-47b8-fa43-1d6c84e345a9"
      },
      "source": [
        "imgpath = {\n",
        "    'seg': [],    \n",
        "    't1': [],\n",
        "    't1ce': [],\n",
        "    't2': [],\n",
        "    'flair': []\n",
        "}\n",
        "\n",
        "# load image paths in dictionary\n",
        "for x in data['BraTS_2020_subject_ID']:\n",
        "    patient=os.path.join(root,x)\n",
        "    for name in imgpath:\n",
        "      imgpath[name].append(os.path.join(patient, x+f'_{name}.nii.gz'))\n",
        "imgpath['seg'][:5]"
      ],
      "execution_count": null,
      "outputs": [
        {
          "output_type": "execute_result",
          "data": {
            "text/plain": [
              "['./MICCAI_BraTS2020_TrainingData/BraTS20_Training_001/BraTS20_Training_001_seg.nii.gz',\n",
              " './MICCAI_BraTS2020_TrainingData/BraTS20_Training_002/BraTS20_Training_002_seg.nii.gz',\n",
              " './MICCAI_BraTS2020_TrainingData/BraTS20_Training_003/BraTS20_Training_003_seg.nii.gz',\n",
              " './MICCAI_BraTS2020_TrainingData/BraTS20_Training_004/BraTS20_Training_004_seg.nii.gz',\n",
              " './MICCAI_BraTS2020_TrainingData/BraTS20_Training_005/BraTS20_Training_005_seg.nii.gz']"
            ]
          },
          "metadata": {
            "tags": []
          },
          "execution_count": 8
        }
      ]
    },
    {
      "cell_type": "code",
      "metadata": {
        "id": "_n8WBNCBIv6x"
      },
      "source": [
        "def loadimg(imgpath):\n",
        "  return nib.load(imgpath).get_fdata()\n",
        "\n",
        "def cropcentre(imgslice,cropx,cropy):\n",
        "  y,x = imgslice.shape\n",
        "  startx = x//2-(cropx//2)\n",
        "  starty = y//2-(cropy//2)    \n",
        "  return imgslice[starty:starty+cropy,startx:startx+cropx]\n",
        "\n",
        "def normalizeslice(imgslice):\n",
        "  return (imgslice-imgslice.mean()) / imgslice.std()"
      ],
      "execution_count": null,
      "outputs": []
    },
    {
      "cell_type": "code",
      "metadata": {
        "id": "Vizg41APiOqj"
      },
      "source": [
        "! mkdir dataset\n",
        "! mkdir dataset/t1\n",
        "! mkdir dataset/t1ce\n",
        "! mkdir dataset/t2\n",
        "! mkdir dataset/flair\n",
        "! mkdir dataset/seg"
      ],
      "execution_count": null,
      "outputs": []
    },
    {
      "cell_type": "code",
      "metadata": {
        "id": "3B_gGl2RI4AI"
      },
      "source": [
        "numOfImgsSaved = 0\n",
        "imgs = {}\n",
        "imgslice = {}\n",
        "numOfImgsToSave = 2000\n",
        "\n",
        "for i in (range(len(imgpath['seg']))):\n",
        "    for name in imgpath:\n",
        "      imgs[name] = loadimg(imgpath[name][i])\n",
        "    \n",
        "    for j in range(155):\n",
        "        for name in imgs:\n",
        "          imgslice[name] = imgs[name][:,:,j]\n",
        "          imgslice[name] = cropcentre(imgslice[name], 128, 128)\n",
        "\n",
        "        if imgslice['seg'].max() > 0:\n",
        "          for name in ['t1','t2','t1ce','flair']:\n",
        "            imgslice[name] = normalizeslice(imgslice[name])\n",
        "          for name in imgslice:\n",
        "            np.save(f'./dataset/{name}/img_{numOfImgsSaved}.npy', imgslice[name])\n",
        "          numOfImgsSaved += 1\n",
        "        \n",
        "        if numOfImgsSaved == numOfImgsToSave:\n",
        "          break\n",
        "    if numOfImgsSaved == numOfImgsToSave:\n",
        "          break"
      ],
      "execution_count": null,
      "outputs": []
    },
    {
      "cell_type": "code",
      "metadata": {
        "id": "RxgNr1RYTAJT",
        "colab": {
          "base_uri": "https://localhost:8080/"
        },
        "outputId": "fb2b5e2a-03e2-472f-ee5a-309b545c1620"
      },
      "source": [
        "! du -h dataset"
      ],
      "execution_count": null,
      "outputs": [
        {
          "output_type": "stream",
          "text": [
            "258M\tdataset/flair\n",
            "258M\tdataset/t2\n",
            "258M\tdataset/t1\n",
            "258M\tdataset/t1ce\n",
            "258M\tdataset/seg\n",
            "1.3G\tdataset\n"
          ],
          "name": "stdout"
        }
      ]
    },
    {
      "cell_type": "code",
      "metadata": {
        "id": "cQlMc-KaWHxl",
        "colab": {
          "base_uri": "https://localhost:8080/",
          "height": 286
        },
        "outputId": "994ef7fa-d328-420a-9a77-d66524545514"
      },
      "source": [
        "x = np.load('dataset/t2/img_25.npy')\n",
        "plt.imshow(x, cmap='gray')"
      ],
      "execution_count": null,
      "outputs": [
        {
          "output_type": "execute_result",
          "data": {
            "text/plain": [
              "<matplotlib.image.AxesImage at 0x7f074eb4be48>"
            ]
          },
          "metadata": {
            "tags": []
          },
          "execution_count": 346
        },
        {
          "output_type": "display_data",
          "data": {
            "image/png": "[encoded data removed]",
            "text/plain": [
              "<Figure size 432x288 with 1 Axes>"
            ]
          },
          "metadata": {
            "tags": [],
            "needs_background": "light"
          }
        }
      ]
    },
    {
      "cell_type": "markdown",
      "metadata": {
        "id": "JpHVF87SpIUv"
      },
      "source": [
        "# Dataset"
      ]
    },
    {
      "cell_type": "code",
      "metadata": {
        "id": "RYNmjuQLXWf6"
      },
      "source": [
        "class Dataset(Dataset):\n",
        "    def __init__(self, datapath='./dataset/', augmentation=None):\n",
        "        self.augmentation = augmentation\n",
        "        self.folderpaths = {\n",
        "            'mask': os.path.join(datapath, 'seg/'),\n",
        "            't1': os.path.join(datapath, 't1/'),\n",
        "            't1ce': os.path.join(datapath, 't1ce/'),\n",
        "            't2': os.path.join(datapath, 't2/'),\n",
        "            'flair': os.path.join(datapath, 'flair/')\n",
        "        }\n",
        "    \n",
        "    def __getitem__(self, idx):\n",
        "        images = {}\n",
        "        for name in self.folderpaths:\n",
        "          images[name] = np.load(os.path.join(self.folderpaths[name], f'img_{idx}.npy'))\n",
        "\n",
        "        if self.augmentation:\n",
        "          images = self.augmentation(image=images['flair'],\n",
        "                                      mask=images['mask'],\n",
        "                                      t1=images['t1'],\n",
        "                                      t1ce=images['t1ce'],\n",
        "                                      t2=images['t2'])\n",
        "          images['flair'] = images['image']\n",
        "\n",
        "        for name in images:\n",
        "          images[name] = torch.from_numpy(images[name])\n",
        "\n",
        "        # stack modalities\n",
        "        input = torch.stack([images['t1'],\n",
        "                             images['t1ce'],\n",
        "                             images['t2'],\n",
        "                             images['flair']], dim=0)\n",
        "        \n",
        "        # map pixels with value of 4 to 3\n",
        "        images['mask'][images['mask']==4] = 3\n",
        "\n",
        "        # one-hot encode truth label\n",
        "        images['mask'] = F.one_hot(images['mask'].long().unsqueeze(0), num_classes = 4).permute(0,3,1,2).contiguous().squeeze(0)\n",
        "\n",
        "        return input.float(), images['mask'].long()\n",
        "    \n",
        "    def __len__(self):\n",
        "        return len(os.listdir(self.folderpaths['mask'])) - 1"
      ],
      "execution_count": null,
      "outputs": []
    },
    {
      "cell_type": "code",
      "metadata": {
        "id": "PYDXq6b-X8jX"
      },
      "source": [
        "augmentation = A.Compose([\n",
        "    A.OneOf([\n",
        "        A.ElasticTransform(alpha=120, sigma=120 * 0.05, alpha_affine=120 * 0.03, p=0.5),\n",
        "        A.GridDistortion(p=0.5),\n",
        "        A.OpticalDistortion(distort_limit=2, shift_limit=0.5, p=0.5)                  \n",
        "        ], p=0.8),\n",
        "    A.RandomBrightnessContrast(p=0.8),\n",
        "    ], \n",
        "    additional_targets={'t1':'image',\n",
        "                          't1ce':'image',\n",
        "                          't2':'image'})\n",
        "\n",
        "valid_test_dataset = Dataset(datapath='./dataset/',\n",
        "                             augmentation=None)\n",
        "\n",
        "train_dataset = Dataset(datapath='./dataset/',\n",
        "                        augmentation=augmentation)\n",
        "\n",
        "# take 60%/20%/20% of the dataset for train/val/test \n",
        "train_length=int(0.6 * len(valid_test_dataset))\n",
        "valid_length = int(0.2 * len(valid_test_dataset))\n",
        "test_length = len(valid_test_dataset) - train_length - valid_length\n",
        "\n",
        "_, valid_dataset, test_dataset = torch.utils.data.random_split(valid_test_dataset, (train_length,valid_length,test_length), generator=torch.Generator().manual_seed(42))\n",
        "\n",
        "train_dataset, _, _ = torch.utils.data.random_split(train_dataset, (train_length,valid_length,test_length), generator=torch.Generator().manual_seed(42))\n",
        "\n",
        "\n",
        "train_loader= DataLoader(train_dataset,\n",
        "                      batch_size=16,\n",
        "                      num_workers=2,\n",
        "                      shuffle=True)\n",
        "\n",
        "valid_loader= DataLoader(valid_dataset,\n",
        "                      batch_size=1,\n",
        "                      num_workers=2,\n",
        "                      shuffle=False)\n",
        "\n",
        "test_loader= DataLoader(test_dataset,\n",
        "                      batch_size=1,\n",
        "                      num_workers=2,\n",
        "                      shuffle=False)"
      ],
      "execution_count": null,
      "outputs": []
    },
    {
      "cell_type": "code",
      "metadata": {
        "id": "76E3fFm5dM58"
      },
      "source": [
        "a,b=next(iter(train_loader))"
      ],
      "execution_count": null,
      "outputs": []
    },
    {
      "cell_type": "code",
      "metadata": {
        "id": "xJqQXw1FBzAv",
        "colab": {
          "base_uri": "https://localhost:8080/",
          "height": 286
        },
        "outputId": "b1427f4a-1722-4974-826d-c4fd46a81475"
      },
      "source": [
        "plt.imshow(a[0,0],cmap='gray')"
      ],
      "execution_count": null,
      "outputs": [
        {
          "output_type": "execute_result",
          "data": {
            "text/plain": [
              "<matplotlib.image.AxesImage at 0x7f07f4fc2390>"
            ]
          },
          "metadata": {
            "tags": []
          },
          "execution_count": 18
        },
        {
          "output_type": "display_data",
          "data": {
            "image/png": "[encoded data removed]",
            "text/plain": [
              "<Figure size 432x288 with 1 Axes>"
            ]
          },
          "metadata": {
            "tags": [],
            "needs_background": "light"
          }
        }
      ]
    },
    {
      "cell_type": "code",
      "metadata": {
        "id": "mdKzf1T3Wn4D",
        "colab": {
          "base_uri": "https://localhost:8080/",
          "height": 286
        },
        "outputId": "9401db3c-30c7-402a-9670-f08d4b49c268"
      },
      "source": [
        "bb = torch.argmax(b,1)\n",
        "plt.imshow(bb[0],cmap='gray')"
      ],
      "execution_count": null,
      "outputs": [
        {
          "output_type": "execute_result",
          "data": {
            "text/plain": [
              "<matplotlib.image.AxesImage at 0x7f07f332bc88>"
            ]
          },
          "metadata": {
            "tags": []
          },
          "execution_count": 19
        },
        {
          "output_type": "display_data",
          "data": {
            "image/png": "[encoded data removed]",
            "text/plain": [
              "<Figure size 432x288 with 1 Axes>"
            ]
          },
          "metadata": {
            "tags": [],
            "needs_background": "light"
          }
        }
      ]
    },
    {
      "cell_type": "markdown",
      "metadata": {
        "id": "VmyO11fopP_K"
      },
      "source": [
        "# Train Model"
      ]
    },
    {
      "cell_type": "code",
      "metadata": {
        "id": "q5J_xWFA7oeF",
        "colab": {
          "base_uri": "https://localhost:8080/"
        },
        "outputId": "0db8ffa0-0073-4b5e-f079-4a195e9d4c08"
      },
      "source": [
        "DEVICE = torch.device('cuda:0' if torch.cuda.is_available() else 'cpu')\n",
        "!nvidia-smi"
      ],
      "execution_count": null,
      "outputs": [
        {
          "output_type": "stream",
          "text": [
            "Tue Nov 24 11:52:56 2020       \n",
            "+-----------------------------------------------------------------------------+\n",
            "| NVIDIA-SMI 455.38       Driver Version: 418.67       CUDA Version: 10.1     |\n",
            "|-------------------------------+----------------------+----------------------+\n",
            "| GPU  Name        Persistence-M| Bus-Id        Disp.A | Volatile Uncorr. ECC |\n",
            "| Fan  Temp  Perf  Pwr:Usage/Cap|         Memory-Usage | GPU-Util  Compute M. |\n",
            "|                               |                      |               MIG M. |\n",
            "|===============================+======================+======================|\n",
            "|   0  Tesla T4            Off  | 00000000:00:04.0 Off |                    0 |\n",
            "| N/A   39C    P8     9W /  70W |     10MiB / 15079MiB |      0%      Default |\n",
            "|                               |                      |                 ERR! |\n",
            "+-------------------------------+----------------------+----------------------+\n",
            "                                                                               \n",
            "+-----------------------------------------------------------------------------+\n",
            "| Processes:                                                                  |\n",
            "|  GPU   GI   CI        PID   Type   Process name                  GPU Memory |\n",
            "|        ID   ID                                                   Usage      |\n",
            "|=============================================================================|\n",
            "|  No running processes found                                                 |\n",
            "+-----------------------------------------------------------------------------+\n"
          ],
          "name": "stdout"
        }
      ]
    },
    {
      "cell_type": "code",
      "metadata": {
        "id": "VHzejMQjpdZb",
        "colab": {
          "base_uri": "https://localhost:8080/",
          "height": 85,
          "referenced_widgets": [
            "3565ce13e21b4b74b208955c66b3fab4",
            "e1b23c785e79406392ba5b82baa9916f",
            "1ce16a9ba3c4406f88c28891bb26c34a",
            "3b83812f78254c1db8bf185e762e2526",
            "f67095318a9a4fc69598d06c6af5dbec",
            "4439160d933744118331000d49d155c8",
            "0bc107e4ce3f491ab869d0632a11a708",
            "b782b11299354591b069a3f2d340848c"
          ]
        },
        "outputId": "c9af91c1-b1fb-4c0a-c168-6b09d1b9db9a"
      },
      "source": [
        "# import model\n",
        "MODEL = smp.Unet(encoder_name='resnet50',\n",
        "                 encoder_depth=5,\n",
        "                 encoder_weights='imagenet',\n",
        "                 decoder_channels=[1024,512,256,128,64],\n",
        "                 in_channels=4,\n",
        "                 classes=4,\n",
        "                 activation=None)"
      ],
      "execution_count": null,
      "outputs": [
        {
          "output_type": "stream",
          "text": [
            "Downloading: \"https://download.pytorch.org/models/resnet50-19c8e357.pth\" to /root/.cache/torch/hub/checkpoints/resnet50-19c8e357.pth\n"
          ],
          "name": "stderr"
        },
        {
          "output_type": "display_data",
          "data": {
            "application/vnd.jupyter.widget-view+json": {
              "model_id": "3565ce13e21b4b74b208955c66b3fab4",
              "version_minor": 0,
              "version_major": 2
            },
            "text/plain": [
              "HBox(children=(FloatProgress(value=0.0, max=102502400.0), HTML(value='')))"
            ]
          },
          "metadata": {
            "tags": []
          }
        },
        {
          "output_type": "stream",
          "text": [
            "\n"
          ],
          "name": "stdout"
        }
      ]
    },
    {
      "cell_type": "code",
      "metadata": {
        "id": "OgxYNRzyANSu"
      },
      "source": [
        "backgroundchannel = [0]\n",
        "\n",
        "DICE_LOSS = smp.utils.losses.DiceLoss(activation='softmax2d')  \n",
        "\n",
        "OPTIMIZER = torch.optim.Adam([ \n",
        "    dict(params=MODEL.parameters(), lr=0.0001),\n",
        "])\n",
        "\n",
        "METRICS = [\n",
        "    smp.utils.metrics.IoU(threshold=0.5,\n",
        "                          ignore_channels=backgroundchannel, \n",
        "                          activation='softmax2d'),\n",
        "    smp.utils.metrics.Fscore(ignore_channels=backgroundchannel, \n",
        "                            activation='softmax2d'),\n",
        "]"
      ],
      "execution_count": null,
      "outputs": []
    },
    {
      "cell_type": "code",
      "metadata": {
        "id": "OMmjJF9KBQWE",
        "colab": {
          "base_uri": "https://localhost:8080/"
        },
        "outputId": "8dbc228c-0f76-4818-9421-dfde7238637f"
      },
      "source": [
        "train_epoch = smp.utils.train.TrainEpoch(\n",
        "    model=MODEL,\n",
        "    loss=DICE_LOSS,\n",
        "    metrics=[],\n",
        "    optimizer=OPTIMIZER,\n",
        "    device=DEVICE,\n",
        "    verbose=True\n",
        ")\n",
        "valid_epoch = smp.utils.train.ValidEpoch(\n",
        "    model=MODEL,\n",
        "    loss=DICE_LOSS,\n",
        "    metrics=METRICS,\n",
        "    device=DEVICE,\n",
        "    verbose=True\n",
        ")\n",
        "\n",
        "max_dice_score = 0\n",
        "stats = {\n",
        "    'train_loss' : [],\n",
        "    'valid_loss' : [],\n",
        "    'fscore' : [],\n",
        "    'iou_score' : []\n",
        "}\n",
        "\n",
        "for i in range(50):\n",
        "  print(f'\\n --- Epoch {i} --- ')\n",
        "  train_logs = train_epoch.run(train_loader)\n",
        "  valid_logs = valid_epoch.run(valid_loader)\n",
        "  \n",
        "  if max_dice_score < valid_logs['fscore']:\n",
        "    max_dice_score = valid_logs['fscore']\n",
        "    torch.save(MODEL.state_dict(), f'./model.pth')\n",
        "    print('model saved!')\n",
        "  \n",
        "  # loss statistics\n",
        "  stats['train_loss'].append(train_logs['dice_loss'])\n",
        "  stats['valid_loss'].append(valid_logs['dice_loss'])\n",
        "\n",
        "  # metric statistics\n",
        "  stats['fscore'].append(valid_logs['fscore'])\n",
        "  stats['iou_score'].append(valid_logs['iou_score'])\n",
        "  np.save(f'./model.npy', stats)\n",
        "  \n",
        "  # reduce learning rate\n",
        "  # if i == 40:\n",
        "  #       OPTIMIZER.param_groups[0]['lr'] = 1e-5\n",
        "  #       print('Decrease decoder learning rate to 1e-5!')\n",
        "  "
      ],
      "execution_count": null,
      "outputs": [
        {
          "output_type": "stream",
          "text": [
            "\n",
            " --- Epoch 0 --- \n",
            "train: 100%|██████████| 75/75 [00:19<00:00,  3.82it/s, dice_loss - 0.2582]\n",
            "valid: 100%|██████████| 399/399 [00:09<00:00, 42.08it/s, dice_loss - 0.09278, iou_score - 0.3402, fscore - 0.4482]\n",
            "model saved!\n",
            "\n",
            " --- Epoch 1 --- \n",
            "train: 100%|██████████| 75/75 [00:20<00:00,  3.70it/s, dice_loss - 0.07045]\n",
            "valid: 100%|██████████| 399/399 [00:08<00:00, 44.38it/s, dice_loss - 0.05945, iou_score - 0.3429, fscore - 0.4497]\n",
            "model saved!\n",
            "\n",
            " --- Epoch 2 --- \n",
            "train: 100%|██████████| 75/75 [00:20<00:00,  3.66it/s, dice_loss - 0.05348]\n",
            "valid: 100%|██████████| 399/399 [00:09<00:00, 43.88it/s, dice_loss - 0.04607, iou_score - 0.4153, fscore - 0.526]\n",
            "model saved!\n",
            "\n",
            " --- Epoch 3 --- \n",
            "train: 100%|██████████| 75/75 [00:20<00:00,  3.68it/s, dice_loss - 0.04516]\n",
            "valid: 100%|██████████| 399/399 [00:09<00:00, 43.56it/s, dice_loss - 0.0379, iou_score - 0.4586, fscore - 0.5725]\n",
            "model saved!\n",
            "\n",
            " --- Epoch 4 --- \n",
            "train: 100%|██████████| 75/75 [00:20<00:00,  3.65it/s, dice_loss - 0.0395]\n",
            "valid: 100%|██████████| 399/399 [00:08<00:00, 45.33it/s, dice_loss - 0.03995, iou_score - 0.4308, fscore - 0.5562]\n",
            "\n",
            " --- Epoch 5 --- \n",
            "train: 100%|██████████| 75/75 [00:20<00:00,  3.71it/s, dice_loss - 0.03818]\n",
            "valid: 100%|██████████| 399/399 [00:08<00:00, 44.35it/s, dice_loss - 0.03192, iou_score - 0.487, fscore - 0.5967]\n",
            "model saved!\n",
            "\n",
            " --- Epoch 6 --- \n",
            "train: 100%|██████████| 75/75 [00:20<00:00,  3.62it/s, dice_loss - 0.03528]\n",
            "valid: 100%|██████████| 399/399 [00:09<00:00, 44.04it/s, dice_loss - 0.03119, iou_score - 0.4911, fscore - 0.5962]\n",
            "\n",
            " --- Epoch 7 --- \n",
            "train: 100%|██████████| 75/75 [00:20<00:00,  3.66it/s, dice_loss - 0.03253]\n",
            "valid: 100%|██████████| 399/399 [00:08<00:00, 44.50it/s, dice_loss - 0.02917, iou_score - 0.5366, fscore - 0.6502]\n",
            "model saved!\n",
            "\n",
            " --- Epoch 8 --- \n",
            "train: 100%|██████████| 75/75 [00:20<00:00,  3.58it/s, dice_loss - 0.0312]\n",
            "valid: 100%|██████████| 399/399 [00:08<00:00, 45.06it/s, dice_loss - 0.02462, iou_score - 0.5612, fscore - 0.6671]\n",
            "model saved!\n",
            "\n",
            " --- Epoch 9 --- \n",
            "train: 100%|██████████| 75/75 [00:21<00:00,  3.55it/s, dice_loss - 0.03018]\n",
            "valid: 100%|██████████| 399/399 [00:08<00:00, 45.08it/s, dice_loss - 0.02438, iou_score - 0.5378, fscore - 0.6449]\n",
            "\n",
            " --- Epoch 10 --- \n",
            "train: 100%|██████████| 75/75 [00:20<00:00,  3.62it/s, dice_loss - 0.0275]\n",
            "valid: 100%|██████████| 399/399 [00:08<00:00, 44.56it/s, dice_loss - 0.02428, iou_score - 0.5328, fscore - 0.6459]\n",
            "\n",
            " --- Epoch 11 --- \n",
            "train: 100%|██████████| 75/75 [00:21<00:00,  3.57it/s, dice_loss - 0.02757]\n",
            "valid: 100%|██████████| 399/399 [00:09<00:00, 44.29it/s, dice_loss - 0.02117, iou_score - 0.5827, fscore - 0.6822]\n",
            "model saved!\n",
            "\n",
            " --- Epoch 12 --- \n",
            "train: 100%|██████████| 75/75 [00:21<00:00,  3.55it/s, dice_loss - 0.02579]\n",
            "valid: 100%|██████████| 399/399 [00:08<00:00, 45.15it/s, dice_loss - 0.02088, iou_score - 0.5962, fscore - 0.6997]\n",
            "model saved!\n",
            "\n",
            " --- Epoch 13 --- \n",
            "train: 100%|██████████| 75/75 [00:21<00:00,  3.53it/s, dice_loss - 0.02651]\n",
            "valid: 100%|██████████| 399/399 [00:08<00:00, 44.79it/s, dice_loss - 0.02044, iou_score - 0.5988, fscore - 0.702]\n",
            "model saved!\n",
            "\n",
            " --- Epoch 14 --- \n",
            "train: 100%|██████████| 75/75 [00:21<00:00,  3.56it/s, dice_loss - 0.02523]\n",
            "valid: 100%|██████████| 399/399 [00:08<00:00, 44.59it/s, dice_loss - 0.02059, iou_score - 0.6004, fscore - 0.7054]\n",
            "model saved!\n",
            "\n",
            " --- Epoch 15 --- \n",
            "train: 100%|██████████| 75/75 [00:21<00:00,  3.54it/s, dice_loss - 0.02488]\n",
            "valid: 100%|██████████| 399/399 [00:09<00:00, 43.87it/s, dice_loss - 0.01952, iou_score - 0.5989, fscore - 0.6998]\n",
            "\n",
            " --- Epoch 16 --- \n",
            "train: 100%|██████████| 75/75 [00:21<00:00,  3.57it/s, dice_loss - 0.02411]\n",
            "valid: 100%|██████████| 399/399 [00:08<00:00, 44.62it/s, dice_loss - 0.01875, iou_score - 0.6112, fscore - 0.7113]\n",
            "model saved!\n",
            "\n",
            " --- Epoch 17 --- \n",
            "train: 100%|██████████| 75/75 [00:21<00:00,  3.54it/s, dice_loss - 0.02253]\n",
            "valid: 100%|██████████| 399/399 [00:08<00:00, 45.24it/s, dice_loss - 0.01819, iou_score - 0.6238, fscore - 0.7231]\n",
            "model saved!\n",
            "\n",
            " --- Epoch 18 --- \n",
            "train: 100%|██████████| 75/75 [00:21<00:00,  3.54it/s, dice_loss - 0.02343]\n",
            "valid: 100%|██████████| 399/399 [00:09<00:00, 43.97it/s, dice_loss - 0.01942, iou_score - 0.5891, fscore - 0.6881]\n",
            "\n",
            " --- Epoch 19 --- \n",
            "train: 100%|██████████| 75/75 [00:21<00:00,  3.57it/s, dice_loss - 0.0226]\n",
            "valid: 100%|██████████| 399/399 [00:08<00:00, 45.09it/s, dice_loss - 0.01857, iou_score - 0.5899, fscore - 0.6799]\n",
            "\n",
            " --- Epoch 20 --- \n",
            "train: 100%|██████████| 75/75 [00:20<00:00,  3.58it/s, dice_loss - 0.0219]\n",
            "valid: 100%|██████████| 399/399 [00:08<00:00, 45.03it/s, dice_loss - 0.01719, iou_score - 0.6186, fscore - 0.7137]\n",
            "\n",
            " --- Epoch 21 --- \n",
            "train: 100%|██████████| 75/75 [00:20<00:00,  3.57it/s, dice_loss - 0.02117]\n",
            "valid: 100%|██████████| 399/399 [00:08<00:00, 44.95it/s, dice_loss - 0.01776, iou_score - 0.6187, fscore - 0.7176]\n",
            "\n",
            " --- Epoch 22 --- \n",
            "train: 100%|██████████| 75/75 [00:20<00:00,  3.58it/s, dice_loss - 0.02263]\n",
            "valid: 100%|██████████| 399/399 [00:09<00:00, 44.26it/s, dice_loss - 0.01799, iou_score - 0.6018, fscore - 0.6916]\n",
            "\n",
            " --- Epoch 23 --- \n",
            "train: 100%|██████████| 75/75 [00:20<00:00,  3.58it/s, dice_loss - 0.02175]\n",
            "valid: 100%|██████████| 399/399 [00:09<00:00, 43.95it/s, dice_loss - 0.01902, iou_score - 0.5834, fscore - 0.6836]\n",
            "\n",
            " --- Epoch 24 --- \n",
            "train: 100%|██████████| 75/75 [00:21<00:00,  3.56it/s, dice_loss - 0.0207]\n",
            "valid: 100%|██████████| 399/399 [00:08<00:00, 45.18it/s, dice_loss - 0.01718, iou_score - 0.6352, fscore - 0.7311]\n",
            "model saved!\n",
            "\n",
            " --- Epoch 25 --- \n",
            "train: 100%|██████████| 75/75 [00:21<00:00,  3.55it/s, dice_loss - 0.02006]\n",
            "valid: 100%|██████████| 399/399 [00:08<00:00, 45.02it/s, dice_loss - 0.01842, iou_score - 0.6094, fscore - 0.7113]\n",
            "\n",
            " --- Epoch 26 --- \n",
            "train: 100%|██████████| 75/75 [00:20<00:00,  3.58it/s, dice_loss - 0.02]\n",
            "valid: 100%|██████████| 399/399 [00:08<00:00, 44.75it/s, dice_loss - 0.01705, iou_score - 0.6479, fscore - 0.745]\n",
            "model saved!\n",
            "\n",
            " --- Epoch 27 --- \n",
            "train: 100%|██████████| 75/75 [00:21<00:00,  3.53it/s, dice_loss - 0.01961]\n",
            "valid: 100%|██████████| 399/399 [00:09<00:00, 43.25it/s, dice_loss - 0.01611, iou_score - 0.6602, fscore - 0.7544]\n",
            "model saved!\n",
            "\n",
            " --- Epoch 28 --- \n",
            "train: 100%|██████████| 75/75 [00:21<00:00,  3.55it/s, dice_loss - 0.01981]\n",
            "valid: 100%|██████████| 399/399 [00:08<00:00, 44.54it/s, dice_loss - 0.01641, iou_score - 0.642, fscore - 0.7335]\n",
            "\n",
            " --- Epoch 29 --- \n",
            "train: 100%|██████████| 75/75 [00:20<00:00,  3.57it/s, dice_loss - 0.01993]\n",
            "valid: 100%|██████████| 399/399 [00:08<00:00, 45.30it/s, dice_loss - 0.01549, iou_score - 0.6503, fscore - 0.7447]\n",
            "\n",
            " --- Epoch 30 --- \n",
            "train: 100%|██████████| 75/75 [00:20<00:00,  3.58it/s, dice_loss - 0.01895]\n",
            "valid: 100%|██████████| 399/399 [00:09<00:00, 44.18it/s, dice_loss - 0.01558, iou_score - 0.6429, fscore - 0.7352]\n",
            "\n",
            " --- Epoch 31 --- \n",
            "train: 100%|██████████| 75/75 [00:20<00:00,  3.58it/s, dice_loss - 0.01957]\n",
            "valid: 100%|██████████| 399/399 [00:09<00:00, 44.09it/s, dice_loss - 0.01534, iou_score - 0.6468, fscore - 0.7379]\n",
            "\n",
            " --- Epoch 32 --- \n",
            "train: 100%|██████████| 75/75 [00:20<00:00,  3.59it/s, dice_loss - 0.01883]\n",
            "valid: 100%|██████████| 399/399 [00:09<00:00, 43.50it/s, dice_loss - 0.01628, iou_score - 0.6506, fscore - 0.743]\n",
            "\n",
            " --- Epoch 33 --- \n",
            "train: 100%|██████████| 75/75 [00:21<00:00,  3.57it/s, dice_loss - 0.01839]\n",
            "valid: 100%|██████████| 399/399 [00:08<00:00, 44.69it/s, dice_loss - 0.01622, iou_score - 0.6378, fscore - 0.7316]\n",
            "\n",
            " --- Epoch 34 --- \n",
            "train: 100%|██████████| 75/75 [00:20<00:00,  3.59it/s, dice_loss - 0.01985]\n",
            "valid: 100%|██████████| 399/399 [00:09<00:00, 44.05it/s, dice_loss - 0.01518, iou_score - 0.66, fscore - 0.7533]\n",
            "\n",
            " --- Epoch 35 --- \n",
            "train: 100%|██████████| 75/75 [00:20<00:00,  3.58it/s, dice_loss - 0.019]\n",
            "valid: 100%|██████████| 399/399 [00:09<00:00, 44.17it/s, dice_loss - 0.01496, iou_score - 0.6638, fscore - 0.754]\n",
            "\n",
            " --- Epoch 36 --- \n",
            "train: 100%|██████████| 75/75 [00:20<00:00,  3.60it/s, dice_loss - 0.01883]\n",
            "valid: 100%|██████████| 399/399 [00:08<00:00, 44.64it/s, dice_loss - 0.01509, iou_score - 0.6588, fscore - 0.7485]\n",
            "\n",
            " --- Epoch 37 --- \n",
            "train: 100%|██████████| 75/75 [00:21<00:00,  3.57it/s, dice_loss - 0.01907]\n",
            "valid: 100%|██████████| 399/399 [00:09<00:00, 44.00it/s, dice_loss - 0.01532, iou_score - 0.6602, fscore - 0.7514]\n",
            "\n",
            " --- Epoch 38 --- \n",
            "train: 100%|██████████| 75/75 [00:20<00:00,  3.61it/s, dice_loss - 0.01789]\n",
            "valid: 100%|██████████| 399/399 [00:09<00:00, 43.54it/s, dice_loss - 0.01496, iou_score - 0.6622, fscore - 0.755]\n",
            "model saved!\n",
            "\n",
            " --- Epoch 39 --- \n",
            "train: 100%|██████████| 75/75 [00:21<00:00,  3.53it/s, dice_loss - 0.01833]\n",
            "valid: 100%|██████████| 399/399 [00:08<00:00, 44.39it/s, dice_loss - 0.01466, iou_score - 0.6668, fscore - 0.7582]\n",
            "model saved!\n",
            "\n",
            " --- Epoch 40 --- \n",
            "train: 100%|██████████| 75/75 [00:22<00:00,  3.29it/s, dice_loss - 0.01834]\n",
            "valid: 100%|██████████| 399/399 [00:09<00:00, 42.22it/s, dice_loss - 0.01513, iou_score - 0.6571, fscore - 0.7509]\n",
            "\n",
            " --- Epoch 41 --- \n",
            "train: 100%|██████████| 75/75 [00:20<00:00,  3.57it/s, dice_loss - 0.01785]\n",
            "valid: 100%|██████████| 399/399 [00:09<00:00, 42.74it/s, dice_loss - 0.01594, iou_score - 0.6418, fscore - 0.7378]\n",
            "\n",
            " --- Epoch 42 --- \n",
            "train: 100%|██████████| 75/75 [00:21<00:00,  3.55it/s, dice_loss - 0.01769]\n",
            "valid: 100%|██████████| 399/399 [00:09<00:00, 42.10it/s, dice_loss - 0.01435, iou_score - 0.6747, fscore - 0.7649]\n",
            "model saved!\n",
            "\n",
            " --- Epoch 43 --- \n",
            "train: 100%|██████████| 75/75 [00:21<00:00,  3.52it/s, dice_loss - 0.01779]\n",
            "valid: 100%|██████████| 399/399 [00:09<00:00, 41.96it/s, dice_loss - 0.01439, iou_score - 0.6804, fscore - 0.7716]\n",
            "model saved!\n",
            "\n",
            " --- Epoch 44 --- \n",
            "train: 100%|██████████| 75/75 [00:21<00:00,  3.53it/s, dice_loss - 0.02005]\n",
            "valid: 100%|██████████| 399/399 [00:09<00:00, 43.42it/s, dice_loss - 0.01892, iou_score - 0.6325, fscore - 0.7326]\n",
            "\n",
            " --- Epoch 45 --- \n",
            "train: 100%|██████████| 75/75 [00:21<00:00,  3.56it/s, dice_loss - 0.01981]\n",
            "valid: 100%|██████████| 399/399 [00:09<00:00, 42.66it/s, dice_loss - 0.01544, iou_score - 0.6425, fscore - 0.7321]\n",
            "\n",
            " --- Epoch 46 --- \n",
            "train: 100%|██████████| 75/75 [00:20<00:00,  3.58it/s, dice_loss - 0.01984]\n",
            "valid: 100%|██████████| 399/399 [00:09<00:00, 42.47it/s, dice_loss - 0.01675, iou_score - 0.6299, fscore - 0.7278]\n",
            "\n",
            " --- Epoch 47 --- \n",
            "train: 100%|██████████| 75/75 [00:21<00:00,  3.54it/s, dice_loss - 0.02032]\n",
            "valid: 100%|██████████| 399/399 [00:09<00:00, 42.24it/s, dice_loss - 0.01493, iou_score - 0.667, fscore - 0.7579]\n",
            "\n",
            " --- Epoch 48 --- \n",
            "train: 100%|██████████| 75/75 [00:21<00:00,  3.57it/s, dice_loss - 0.018]\n",
            "valid: 100%|██████████| 399/399 [00:09<00:00, 42.89it/s, dice_loss - 0.01417, iou_score - 0.6746, fscore - 0.7661]\n",
            "\n",
            " --- Epoch 49 --- \n",
            "train: 100%|██████████| 75/75 [00:21<00:00,  3.53it/s, dice_loss - 0.01758]\n",
            "valid: 100%|██████████| 399/399 [00:09<00:00, 42.88it/s, dice_loss - 0.0142, iou_score - 0.6704, fscore - 0.7601]\n"
          ],
          "name": "stdout"
        }
      ]
    },
    {
      "cell_type": "code",
      "metadata": {
        "id": "yyzb_odLX5n4",
        "colab": {
          "base_uri": "https://localhost:8080/",
          "height": 313
        },
        "outputId": "c919412f-d9e5-4f83-b5f3-ce08bc17bc4d"
      },
      "source": [
        "STATS = np.load(f'./model.npy', allow_pickle='TRUE').item()\n",
        "plt.plot(STATS['train_loss'], label='train loss')\n",
        "plt.plot(STATS['valid_loss'], label='valid loss')\n",
        "plt.legend(loc='upper right')\n",
        "plt.xlabel('epoch')\n",
        "plt.ylabel('loss')\n",
        "plt.title('Train and Validation Loss')"
      ],
      "execution_count": null,
      "outputs": [
        {
          "output_type": "execute_result",
          "data": {
            "text/plain": [
              "Text(0.5, 1.0, 'Train and Validation Loss')"
            ]
          },
          "metadata": {
            "tags": []
          },
          "execution_count": 375
        },
        {
          "output_type": "display_data",
          "data": {
            "image/png": "[encoded data removed]",
            "text/plain": [
              "<Figure size 432x288 with 1 Axes>"
            ]
          },
          "metadata": {
            "tags": [],
            "needs_background": "light"
          }
        }
      ]
    },
    {
      "cell_type": "code",
      "metadata": {
        "id": "1wLPLiRL84lq",
        "colab": {
          "base_uri": "https://localhost:8080/",
          "height": 313
        },
        "outputId": "4d5888fb-e049-446e-b516-c5f207ec56e8"
      },
      "source": [
        "STATS = np.load(f'./model.npy', allow_pickle='TRUE').item()\n",
        "plt.plot(STATS['fscore'], label='fscore')\n",
        "plt.legend(loc=\"lower right\")\n",
        "plt.ylabel('score')\n",
        "plt.xlabel('epoch')\n",
        "plt.title('Fscore')"
      ],
      "execution_count": null,
      "outputs": [
        {
          "output_type": "execute_result",
          "data": {
            "text/plain": [
              "Text(0.5, 1.0, 'Fscore')"
            ]
          },
          "metadata": {
            "tags": []
          },
          "execution_count": 377
        },
        {
          "output_type": "display_data",
          "data": {
            "image/png": "[encoded data removed]",
            "text/plain": [
              "<Figure size 432x288 with 1 Axes>"
            ]
          },
          "metadata": {
            "tags": [],
            "needs_background": "light"
          }
        }
      ]
    },
    {
      "cell_type": "markdown",
      "metadata": {
        "id": "esJky6Kvpw0T"
      },
      "source": [
        "# Test Model"
      ]
    },
    {
      "cell_type": "code",
      "metadata": {
        "colab": {
          "base_uri": "https://localhost:8080/"
        },
        "id": "Fb6Y3x9-QsBA",
        "outputId": "e0caa749-71b7-4595-aae0-e224cd36c9c3"
      },
      "source": [
        "MODEL.load_state_dict(torch.load('./model.pth'))"
      ],
      "execution_count": null,
      "outputs": [
        {
          "output_type": "execute_result",
          "data": {
            "text/plain": [
              "<All keys matched successfully>"
            ]
          },
          "metadata": {
            "tags": []
          },
          "execution_count": 23
        }
      ]
    },
    {
      "cell_type": "code",
      "metadata": {
        "id": "eNXdVjqu-xRG",
        "colab": {
          "base_uri": "https://localhost:8080/"
        },
        "outputId": "eaefa315-62e8-448b-effb-8269e1cb91c1"
      },
      "source": [
        "subregions = {\n",
        "    'all': [0],\n",
        "    'ncr': [0,2,3],\n",
        "    'ed': [0,1,3],\n",
        "    'tc': [0,1,2],\n",
        "}\n",
        "\n",
        "for subregion in subregions:\n",
        "  valid_epoch = smp.utils.train.ValidEpoch(\n",
        "      model=MODEL,\n",
        "      loss=DICE_LOSS,\n",
        "      metrics=[smp.utils.metrics.Fscore(activation='softmax2d', ignore_channels=subregions[subregion])],\n",
        "      device=DEVICE,\n",
        "      verbose=False\n",
        "  )\n",
        "  valid_log = valid_epoch.run(test_loader)\n",
        "  print(subregion, valid_log['fscore'])"
      ],
      "execution_count": null,
      "outputs": [
        {
          "output_type": "stream",
          "text": [
            "all 0.753579033247942\n",
            "ncr 0.765883906178054\n",
            "ed 0.7375690557953963\n",
            "tc 0.8066382903530135\n"
          ],
          "name": "stdout"
        }
      ]
    },
    {
      "cell_type": "markdown",
      "metadata": {
        "id": "RtaStYdtzD4e"
      },
      "source": [
        "# Single Scan\n"
      ]
    },
    {
      "cell_type": "code",
      "metadata": {
        "id": "HzcZZeKVzLz1"
      },
      "source": [
        "! mkdir gifimg\n",
        "! mkdir gifimg/t1\n",
        "! mkdir gifimg/t1ce\n",
        "! mkdir gifimg/t2\n",
        "! mkdir gifimg/flair\n",
        "! mkdir gifimg/seg\n",
        "\n",
        "! mkdir gifimg/pred\n",
        "! mkdir gifimg/label"
      ],
      "execution_count": null,
      "outputs": []
    },
    {
      "cell_type": "code",
      "metadata": {
        "id": "BOdB-LYUzGM_"
      },
      "source": [
        "c=0\n",
        "for i in range(1):\n",
        "    for name in imgpath:\n",
        "      imgs[name] = loadimg(imgpath[name][i])\n",
        "    \n",
        "    for j in range(155):\n",
        "        for name in imgs:\n",
        "          imgslice[name] = imgs[name][:,:,j]\n",
        "          imgslice[name] = cropcentre(imgslice[name], 128, 128)\n",
        "        \n",
        "        if imgslice['flair'].max() == 0:\n",
        "          continue\n",
        "        imgslice['flair'] *= 255.0/imgslice['flair'].max()\n",
        "        Image.fromarray(imgslice['flair']).convert('L').save(f'./gifimg/img_{c}.png')\n",
        "\n",
        "        for name in ['t1','t2','t1ce','flair']:\n",
        "          imgslice[name] = normalizeslice(imgslice[name])\n",
        "        for name in imgslice:\n",
        "          np.save(f'./gifimg/{name}/img_{c}.npy', imgslice[name])\n",
        "        c+=1       "
      ],
      "execution_count": null,
      "outputs": []
    },
    {
      "cell_type": "code",
      "metadata": {
        "colab": {
          "base_uri": "https://localhost:8080/"
        },
        "id": "vRxWVbdL0EmR",
        "outputId": "910add9c-0aaa-46a1-ec6f-aa72e035ca6e"
      },
      "source": [
        "gif_dataset = Dataset(datapath='./gifimg/',\n",
        "                           augmentation=None)\n",
        "\n",
        "gif_loader= DataLoader(gif_dataset,\n",
        "                            batch_size=1,\n",
        "                            num_workers=2,\n",
        "                            shuffle=False)\n",
        "\n",
        "subregions = {\n",
        "    'all': [0],\n",
        "    'ncr': [0,2,3],\n",
        "    'ed': [0,1,3],\n",
        "    'tc': [0,1,2],\n",
        "}\n",
        "\n",
        "for subregion in subregions:\n",
        "  valid_epoch = smp.utils.train.ValidEpoch(\n",
        "      model=MODEL,\n",
        "      loss=DICE_LOSS,\n",
        "      metrics=[smp.utils.metrics.Fscore(activation='softmax2d', ignore_channels=subregions[subregion])],\n",
        "      device=DEVICE,\n",
        "      verbose=False\n",
        "  )\n",
        "  valid_log = valid_epoch.run(gif_loader)\n",
        "  print(subregion, valid_log['fscore'])"
      ],
      "execution_count": null,
      "outputs": [
        {
          "output_type": "stream",
          "text": [
            "all 0.7634285470674628\n",
            "ncr 0.8574606550685996\n",
            "ed 0.7867721295528227\n",
            "tc 0.7822529962950643\n"
          ],
          "name": "stdout"
        }
      ]
    },
    {
      "cell_type": "markdown",
      "metadata": {
        "id": "dd8RWw0TwZqg"
      },
      "source": [
        "# Coronal/Sagittal View\n"
      ]
    },
    {
      "cell_type": "code",
      "metadata": {
        "id": "--CW4dwcdGNs"
      },
      "source": [
        "! mkdir coronal\n",
        "! mkdir coronal/t1\n",
        "! mkdir coronal/t1ce\n",
        "! mkdir coronal/t2\n",
        "! mkdir coronal/flair\n",
        "! mkdir coronal/seg\n",
        "! mkdir coronal/pred\n",
        "! mkdir coronal/label\n",
        "\n",
        "! mkdir sagittal\n",
        "! mkdir sagittal/t1\n",
        "! mkdir sagittal/t1ce\n",
        "! mkdir sagittal/t2\n",
        "! mkdir sagittal/flair\n",
        "! mkdir sagittal/seg\n",
        "! mkdir sagittal/pred\n",
        "! mkdir sagittal/label"
      ],
      "execution_count": null,
      "outputs": []
    },
    {
      "cell_type": "code",
      "metadata": {
        "id": "8slDkz8jVfGL"
      },
      "source": [
        "# save a single patient scan of each coronal and sagittal view\n",
        "c=0\n",
        "for i in range(1):\n",
        "    for name in imgpath:\n",
        "      imgs[name] = loadimg(imgpath[name][i])\n",
        "    \n",
        "    for j in range(155):\n",
        "        for name in imgs:\n",
        "          imgslice[name] = imgs[name][:,j,:]\n",
        "          imgslice[name] = cropcentre(imgslice[name], 128, 128)\n",
        "        \n",
        "        if imgslice['flair'].max() == 0:\n",
        "          continue\n",
        "        imgslice['flair'] *= 255.0/imgslice['flair'].max()\n",
        "        Image.fromarray(imgslice['flair']).convert('L').save(f'./coronal/img_{c}.png')\n",
        "        \n",
        "        for name in ['t1','t2','t1ce','flair']:\n",
        "          imgslice[name] = normalizeslice(imgslice[name])\n",
        "        for name in imgslice:\n",
        "          np.save(f'./coronal/{name}/img_{c}.npy', imgslice[name])\n",
        "        c+=1\n",
        "    c=0\n",
        "    for j in range(155):\n",
        "        for name in imgs:\n",
        "          imgslice[name] = imgs[name][j,:,:]\n",
        "          imgslice[name] = cropcentre(imgslice[name], 128, 128)\n",
        "        \n",
        "        if imgslice['flair'].max() == 0:\n",
        "          continue\n",
        "        imgslice['flair'] *= 255.0/imgslice['flair'].max()\n",
        "        Image.fromarray(imgslice['flair']).convert('L').save(f'./sagittal/img_{c}.png')\n",
        "        \n",
        "        for name in ['t1','t2','t1ce','flair']:\n",
        "          imgslice[name] = normalizeslice(imgslice[name])\n",
        "        for name in imgslice:\n",
        "          np.save(f'./sagittal/{name}/img_{c}.npy', imgslice[name])\n",
        "        c+=1"
      ],
      "execution_count": null,
      "outputs": []
    },
    {
      "cell_type": "code",
      "metadata": {
        "id": "XPqrCGaBvK9X"
      },
      "source": [
        "coronal_dataset = Dataset(datapath='./coronal/',\n",
        "                           augmentation=None)\n",
        "\n",
        "coronal_loader= DataLoader(coronal_dataset,\n",
        "                            batch_size=1,\n",
        "                            num_workers=2,\n",
        "                            shuffle=False)\n",
        "\n",
        "sagittal_dataset = Dataset(datapath='./sagittal/',\n",
        "                           augmentation=None)\n",
        "\n",
        "sagittal_loader= DataLoader(sagittal_dataset,\n",
        "                            batch_size=1,\n",
        "                            num_workers=2,\n",
        "                            shuffle=False)"
      ],
      "execution_count": null,
      "outputs": []
    },
    {
      "cell_type": "code",
      "metadata": {
        "id": "o9FMx7MMKGIL",
        "colab": {
          "base_uri": "https://localhost:8080/"
        },
        "outputId": "18af3dd1-bf5a-4402-99e1-f2d66fab719d"
      },
      "source": [
        "subregions = {\n",
        "    'all': [0],\n",
        "    'ncr': [0,2,3],\n",
        "    'ed': [0,1,3],\n",
        "    'tc': [0,1,2],\n",
        "}\n",
        "\n",
        "print('--- Coronal ---')\n",
        "for subregion in subregions:\n",
        "  valid_epoch = smp.utils.train.ValidEpoch(\n",
        "      model=MODEL,\n",
        "      loss=DICE_LOSS,\n",
        "      metrics=[smp.utils.metrics.Fscore(activation='softmax2d', ignore_channels=subregions[subregion])],\n",
        "      device=DEVICE,\n",
        "      verbose=False\n",
        "  )\n",
        "  valid_log = valid_epoch.run(coronal_loader)\n",
        "  print(subregion, valid_log['fscore'])\n",
        "\n",
        "print('--- Sagittal ---')\n",
        "for subregion in subregions:\n",
        "  valid_epoch = smp.utils.train.ValidEpoch(\n",
        "      model=MODEL,\n",
        "      loss=DICE_LOSS,\n",
        "      metrics=[smp.utils.metrics.Fscore(activation='softmax2d', ignore_channels=subregions[subregion])],\n",
        "      device=DEVICE,\n",
        "      verbose=False\n",
        "  )\n",
        "  valid_log = valid_epoch.run(sagittal_loader)\n",
        "  print(subregion, valid_log['fscore'])"
      ],
      "execution_count": null,
      "outputs": [
        {
          "output_type": "stream",
          "text": [
            "--- Coronal ---\n",
            "all 0.6163462499711597\n",
            "ncr 0.7217872399673279\n",
            "ed 0.6210562994581427\n",
            "tc 0.7006740687405904\n",
            "--- Sagittal ---\n",
            "all 0.4002944199105503\n",
            "ncr 0.6212393332121366\n",
            "ed 0.40314447338433523\n",
            "tc 0.4311018547446186\n"
          ],
          "name": "stdout"
        }
      ]
    },
    {
      "cell_type": "markdown",
      "metadata": {
        "id": "qBDbzb5EpTE3"
      },
      "source": [
        "# Load model/statistics"
      ]
    },
    {
      "cell_type": "code",
      "metadata": {
        "id": "PwIaZfFf5LCl"
      },
      "source": [
        "MODEL = smp.Unet(encoder_name='resnet50',\n",
        "                 encoder_depth=5,\n",
        "                 encoder_weights='imagenet',\n",
        "                 decoder_channels=[1024,512,256,128,64],\n",
        "                 in_channels=4,\n",
        "                 classes=4,\n",
        "                 activation=None)\n",
        "\n",
        "MODEL.load_state_dict(torch.load(f'./model.pth'))\n",
        "STATS = np.load(f'./model.npy', allow_pickle='TRUE').item()"
      ],
      "execution_count": null,
      "outputs": []
    }
  ]
}